{
 "metadata": {
  "name": "",
  "signature": "sha256:724ae78429c9fa71024ef605675b85196156c4aa86019c24a06f726f78f0fbaf"
 },
 "nbformat": 3,
 "nbformat_minor": 0,
 "worksheets": [
  {
   "cells": [
    {
     "cell_type": "markdown",
     "metadata": {},
     "source": [
      "# Introduction\n",
      "\n",
      "** What's IPython notebook?**\n",
      "\n",
      "\"The IPython Notebook is a web-based interactive computational environment where you can combine code execution, text, mathematics, plots and rich media into a single document\" http://ipython.org/notebook.html\n",
      "\n",
      "In IPython Notebook, you can use python code to perform various computations.\n"
     ]
    },
    {
     "cell_type": "code",
     "collapsed": false,
     "input": [
      "# This is a short demo of the notebook\u2019s basic features by the Pybonacci team\n",
      "# In linux or mac: ipython notebook is started with command \"ipython notebook\" in command line\n",
      "# In windows: just open it from start menu, after installing it\n",
      "from IPython.display import YouTubeVideo\n",
      "YouTubeVideo('H6dLGQw9yFQ') # Click full screen, if too small"
     ],
     "language": "python",
     "metadata": {},
     "outputs": [
      {
       "html": [
        "\n",
        "        <iframe\n",
        "            width=\"400\"\n",
        "            height=300\"\n",
        "            src=\"https://www.youtube.com/embed/H6dLGQw9yFQ\"\n",
        "            frameborder=\"0\"\n",
        "            allowfullscreen\n",
        "        ></iframe>\n",
        "        "
       ],
       "metadata": {},
       "output_type": "pyout",
       "prompt_number": 2,
       "text": [
        "<IPython.lib.display.YouTubeVideo at 0x10a2d7690>"
       ]
      }
     ],
     "prompt_number": 2
    },
    {
     "cell_type": "markdown",
     "metadata": {},
     "source": [
      "# Installation of IPython notebook"
     ]
    },
    {
     "cell_type": "markdown",
     "metadata": {},
     "source": [
      "Here's a very brief installation guide. If it's not detailed enough, check instruction from [link](http://ipython.org/notebook.html), google it, or contact [qiuwch@gmail.com](qiuwch@gmail.com) for help.\n",
      "\n",
      "**Windows:**  \n",
      "The simpliest way is to install Anaconda (a python distribution for scientific computation).  \n",
      "https://store.continuum.io/cshop/anaconda/\n",
      "\n",
      "**Linux/Mac:**\n",
      "1. Install pip with package manager (for ubuntu, it's **apt-get install pip**).\n",
      "2. Use pip to install dependencies (ipython, numpy, scipy, etc.)   \n",
      "**pip install ipython numpy scipy**\n",
      "3. In terminal, change directory to where contains the ipynb file. Then use **ipython notebook** to launch ipython notebook.\n",
      "\n",
      "**NOTE:** Installation of ipython notebook should take less than ten minutes. If you have difficulty with installation, contact  qiuwch@gmail.com."
     ]
    },
    {
     "cell_type": "markdown",
     "metadata": {},
     "source": [
      "# Usage"
     ]
    },
    {
     "cell_type": "markdown",
     "metadata": {},
     "source": [
      "If you have programming experience with a programming language like C, MATLAB, R. Python should be easy to grasp.\n",
      "You can find a lot of tutorials on the web.\n",
      "\n",
      "Here is a video tutorial to show how to use python in IPython notebook. The videos 1-5 (skip 2) are enough for this course. It's suitable for beginner **without** python knowledge. \n",
      "\n",
      "https://www.youtube.com/watch?v=R6Sh58B3cOE&list=PLRJx8WOUx5Xd3_dgw5xRmABUd8MWdsA_C&index=2"
     ]
    },
    {
     "cell_type": "markdown",
     "metadata": {},
     "source": [
      "**If you found a good tutorial for beginner, please send an email to qiuwch@gmail.com. I can help share with others. Thanks.**"
     ]
    }
   ],
   "metadata": {}
  }
 ]
}