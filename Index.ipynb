{
 "metadata": {
  "name": "",
  "signature": "sha256:6bdc92f2b194a14618a22bc676edc4b4fc272d85a69825cfc394d8d6590109d1"
 },
 "nbformat": 3,
 "nbformat_minor": 0,
 "worksheets": [
  {
   "cells": [
    {
     "cell_type": "markdown",
     "metadata": {},
     "source": [
      "# STATS 271 Homework 1"
     ]
    },
    {
     "cell_type": "markdown",
     "metadata": {},
     "source": [
      "This homework contains two parts. Click links below to see detail.\n",
      "\n",
      "1. [Gabor](./1.1GaborDemo.ipynb)\n",
      "\n",
      "2. [Edge detection](./1.2BoundaryDemo.ipynb)"
     ]
    },
    {
     "cell_type": "markdown",
     "metadata": {},
     "source": [
      "This homework contains code demo to illustrate concepts from the lectures. The code is written in python language. To run these demos, [IPython notebook](http://ipython.org/notebook.html) is required. The IPython Notebook is a web-based interactive computational environment where you can combine code execution, text, mathematics, plots and rich media into a single document. In this [link](0.IPythonNotebookBasic.ipynb), we provide instructions of getting started with this tool.\n",
      "\n",
      "All code and data can be downloaded from https://github.com/qiuwch/Stat271HW/archive/master.zip. "
     ]
    }
   ],
   "metadata": {}
  }
 ]
}