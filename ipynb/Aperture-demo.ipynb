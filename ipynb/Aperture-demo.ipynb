{
 "metadata": {
  "name": "",
  "signature": "sha256:41529afc2165efead75f5d82c11e7e208745d417eeaf133a8ab06947e5526298"
 },
 "nbformat": 3,
 "nbformat_minor": 0,
 "worksheets": [
  {
   "cells": [
    {
     "cell_type": "markdown",
     "metadata": {},
     "source": [
      "TODO: Fix animation"
     ]
    },
    {
     "cell_type": "code",
     "collapsed": false,
     "input": [
      "import numpy as np\n",
      "import matplotlib.pyplot as plt\n",
      "import matplotlib.animation as animation\n",
      "\n",
      "xdim = 400\n",
      "ydim =400\n",
      "freq = 1. # spatial frequency of the grating\n",
      "theta = np.pi/3. #orientation of the grating"
     ],
     "language": "python",
     "metadata": {},
     "outputs": [],
     "prompt_number": 1
    },
    {
     "cell_type": "code",
     "collapsed": false,
     "input": [
      "#rectangular mask\n",
      "\n",
      "from matplotlib import path\n",
      "\n",
      "nx, ny = xdim/2, ydim/2\n",
      "xoff,yoff = 20,10\n",
      "\n",
      "poly_verts = [(xoff,ny-yoff), (xdim-xoff,ny-yoff), (xdim-xoff,ny+yoff),(xoff,ny+yoff)]\n",
      "\n",
      "x, y = np.meshgrid(np.arange(xdim), np.arange(ydim))\n",
      "x, y = x.flatten(), y.flatten()\n",
      "points = np.vstack((x,y)).T\n",
      "\n",
      "p = path.Path(poly_verts)\n",
      "rectImg = p.contains_points(points)\n",
      "rectImg = rectImg.reshape((ydim,xdim))\n",
      "\n",
      "#print grid"
     ],
     "language": "python",
     "metadata": {},
     "outputs": [],
     "prompt_number": 2
    },
    {
     "cell_type": "code",
     "collapsed": false,
     "input": [
      "#circular mask\n",
      "\n",
      "imageSize = xdim;\n",
      "r = (imageSize-1)/4; cx = cy = imageSize/2; \n",
      "[X, Y] = np.meshgrid(np.arange(imageSize), np.arange(imageSize))\n",
      "diskImg = (X-cx)**2 + (Y-cy)**2 <= r**2"
     ],
     "language": "python",
     "metadata": {},
     "outputs": [],
     "prompt_number": 3
    },
    {
     "cell_type": "markdown",
     "metadata": {},
     "source": [
      "# Animation"
     ]
    },
    {
     "cell_type": "code",
     "collapsed": false,
     "input": [
      "#compare grid = diskImg with grid = rectImg\n",
      "%matplotlib inline\n",
      "grid = diskImg\n",
      "#grid = rectImg\n",
      "\n",
      "fig = plt.figure()\n",
      "\n",
      "def grating(x, y):\n",
      "    temp = np.cos((2.*(np.pi)*freq)*(np.cos(theta)*x + np.sin(theta)*y))\n",
      "    return temp\n",
      "\n",
      "x = np.linspace(0, 2 * np.pi, xdim)\n",
      "y = np.linspace(0, 2 * np.pi, ydim).reshape(-1, 1)\n",
      "\n",
      "im = plt.imshow(grating(x, y), cmap=plt.get_cmap('Greys'))\n",
      "\n",
      "def updatefig(*args):\n",
      "    global x,y\n",
      "    x += np.pi / 15.\n",
      "#    im.set_array(grating(x,y)*diskImg)\n",
      "    im.set_array(grating(x,y)*grid)\n",
      "    return im\n",
      "\n",
      "animation.FuncAnimation(fig, updatefig, interval=10, blit=False) # blit needs to be set to False"
     ],
     "language": "python",
     "metadata": {},
     "outputs": [
      {
       "metadata": {},
       "output_type": "pyout",
       "prompt_number": 5,
       "text": [
        "<matplotlib.animation.FuncAnimation at 0x1045d47d0>"
       ]
      },
      {
       "metadata": {},
       "output_type": "display_data",
       "png": "[encoded data removed]",
       "text": [
        "<matplotlib.figure.Figure at 0x1044e9a10>"
       ]
      }
     ],
     "prompt_number": 5
    },
    {
     "cell_type": "markdown",
     "metadata": {},
     "source": [
      "##Exercise: Try replacing the above diskImg mask with rectImg"
     ]
    }
   ],
   "metadata": {}
  }
 ]
}