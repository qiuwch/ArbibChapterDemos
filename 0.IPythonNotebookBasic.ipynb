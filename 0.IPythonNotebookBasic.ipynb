{
 "metadata": {
  "name": "",
  "signature": "sha256:eaac9ea69c65150fb341e9222e77b54eb33144c2febb3e9ad0182bc120b6d16b"
 },
 "nbformat": 3,
 "nbformat_minor": 0,
 "worksheets": [
  {
   "cells": [
    {
     "cell_type": "markdown",
     "metadata": {},
     "source": [
      "# Introduction - What's iPython notebook\n",
      "\n",
      "A brief introduction from ipython's homepage http://ipython.org/notebook.html\n",
      "\n",
      "\"The IPython Notebook is a web-based interactive computational environment where you can combine code execution, text, mathematics, plots and rich media into a single document\"\n",
      "\n",
      "Here is a short demo of the notebook\u2019s basic features by the Pybonacci team:"
     ]
    },
    {
     "cell_type": "code",
     "collapsed": false,
     "input": [
      "from IPython.display import YouTubeVideo\n",
      "# a talk about IPython at Sage Days at U. Washington, Seattle.\n",
      "# Video credit: William Stein.\n",
      "YouTubeVideo('H6dLGQw9yFQ')"
     ],
     "language": "python",
     "metadata": {},
     "outputs": [
      {
       "html": [
        "\n",
        "        <iframe\n",
        "            width=\"400\"\n",
        "            height=300\"\n",
        "            src=\"https://www.youtube.com/embed/H6dLGQw9yFQ\"\n",
        "            frameborder=\"0\"\n",
        "            allowfullscreen\n",
        "        ></iframe>\n",
        "        "
       ],
       "metadata": {},
       "output_type": "pyout",
       "prompt_number": 2,
       "text": [
        "<IPython.lib.display.YouTubeVideo at 0x10632af10>"
       ]
      }
     ],
     "prompt_number": 2
    },
    {
     "cell_type": "markdown",
     "metadata": {},
     "source": [
      "# Installation"
     ]
    },
    {
     "cell_type": "markdown",
     "metadata": {},
     "source": [
      "Here's a very brief installation guide, if it's not detailed enough, you can find a lot related resource by google.\n",
      "\n",
      "**Windows:**\n",
      "\n",
      "The simpliest way is install Anaconda (a python distribution for scientific computation).  \n",
      "https://store.continuum.io/cshop/anaconda/\n",
      "\n",
      "**Linux/Mac:**\n",
      "1. install pip with package manager (for ubuntu, it's apt-get install)\n",
      "2. use pip to install dependencies (ipython, numpy, scipy, etc.)\n",
      "3. in shell, use ipython notebook to launch ipython notebook\n",
      "\n",
      "**NOTE:** Installation of ipython notebook should take less than ten minutes. If you have difficulty installing ipython notebook, can send an email to qiuwch@gmail.com. I can help."
     ]
    },
    {
     "cell_type": "markdown",
     "metadata": {},
     "source": [
      "# Usage"
     ]
    },
    {
     "cell_type": "markdown",
     "metadata": {},
     "source": [
      "### Python:\n",
      "If you want to do home in ipython notebook. some python basic is required. If you have programming background, python can be grasped in a short time."
     ]
    },
    {
     "cell_type": "markdown",
     "metadata": {},
     "source": [
      "### iPython notebook:\n",
      "https://github.com/ipython/ipython/wiki/A-gallery-of-interesting-IPython-Notebooks#introductory-tutorials   \n",
      "Here you can find a few good tutorials of how to use this notebook to write python. Remember to check \"Introductory Tutorials\" section of this link."
     ]
    },
    {
     "cell_type": "markdown",
     "metadata": {},
     "source": [
      "**If you found a good tutorial for beginner, please send an email to qiuwch@gmail.com. I can help share with others. Thanks.**"
     ]
    },
    {
     "cell_type": "code",
     "collapsed": false,
     "input": [],
     "language": "python",
     "metadata": {},
     "outputs": []
    }
   ],
   "metadata": {}
  }
 ]
}